{
 "cells": [
  {
   "cell_type": "code",
   "execution_count": 300,
   "metadata": {},
   "outputs": [],
   "source": [
    "import pandas as pd\n",
    "dataset=pd.read_csv('../tratamento/dataset_tratado.csv')\n",
    "\n",
    "dataset_ibge=pd.read_csv('../tratamento/dataset_ibge_tratado.csv')"
   ]
  },
  {
   "cell_type": "code",
   "execution_count": 301,
   "metadata": {},
   "outputs": [],
   "source": [
    "#Removendo caracteres indesejados no Nome \n",
    "dataset['Nome'] = dataset['Nome'].replace({',': ''}, regex=True)\n",
    "dataset['Nome'] = dataset['Nome'].replace({'-': ''}, regex=True)\n",
    "dataset = dataset.replace({'  ': ' '}, regex=True)\n",
    "dataset['Nome'] = dataset['Nome'].replace({\"'\":' '}, regex=True)\n",
    "\n"
   ]
  },
  {
   "cell_type": "code",
   "execution_count": 302,
   "metadata": {},
   "outputs": [],
   "source": [
    "#Valida os CPFS\n",
    "\n",
    "from validate_docbr import CPF\n",
    "#Valida os CPFS \n",
    "cpf = CPF()\n",
    "def validaCPF(CPF):\n",
    "    \n",
    "    if(cpf.validate(CPF)):\n",
    "        CPFValido =\"Sim\"\n",
    "    else:\n",
    "        CPFValido =\"Não\"\n",
    "\n",
    "        \n",
    "    return CPFValido\n",
    "\n",
    "dataset['Validade CPF']=dataset['cpf'].apply(validaCPF)\n"
   ]
  },
  {
   "cell_type": "code",
   "execution_count": 303,
   "metadata": {},
   "outputs": [],
   "source": [
    "#Seleciona apenas os CPFs validos\n",
    "dataset=dataset.loc[dataset['Validade CPF']==\"Sim\"]\n",
    "dataset.drop(columns=['Validade CPF'],inplace=True)\n"
   ]
  },
  {
   "cell_type": "code",
   "execution_count": 304,
   "metadata": {},
   "outputs": [],
   "source": [
    "#Utiliza Regex para pegar o utimo conjunto de caracteres do nome depois do espaço\n",
    "import re\n",
    "\n",
    "def retornaSobrenome(nome): \n",
    "\n",
    "  Sobrenome = re.search(\"[^\\/]\\w+$\", nome).group(0)\n",
    "  #print(Sobrenome)\n",
    "  return Sobrenome\n",
    "\n",
    "dataset['sobrenome']=dataset['Nome'].apply(retornaSobrenome)"
   ]
  },
  {
   "cell_type": "code",
   "execution_count": 305,
   "metadata": {},
   "outputs": [],
   "source": [
    "#fazendo um join com a base do IBGE para adionar os campos Cod_IBGE,sigla , Estado \n",
    "dataset=pd.merge(dataset,dataset_ibge,how='left',on='Cidade')"
   ]
  },
  {
   "cell_type": "code",
   "execution_count": 306,
   "metadata": {},
   "outputs": [],
   "source": [
    "#Renomeando as colunas \n",
    "dataset.rename(columns={'cpf':'CPF','sobrenome':'Sobrenome','cod_ibge':'Cod_IBGE',\n",
    "'sigla':'Sigla','Nome Sigla':'Estado'},inplace=True)\n"
   ]
  },
  {
   "cell_type": "code",
   "execution_count": 307,
   "metadata": {},
   "outputs": [],
   "source": [
    "Dim_localidade=dataset.loc[:,['Cod_IBGE','Sigla','Estado','Cidade']]\n",
    "dataset.drop(columns=['Sigla','Estado','Cidade'],inplace=True)\n",
    "\n",
    "\n"
   ]
  },
  {
   "cell_type": "code",
   "execution_count": 316,
   "metadata": {},
   "outputs": [
    {
     "data": {
      "text/html": [
       "<div>\n",
       "<style scoped>\n",
       "    .dataframe tbody tr th:only-of-type {\n",
       "        vertical-align: middle;\n",
       "    }\n",
       "\n",
       "    .dataframe tbody tr th {\n",
       "        vertical-align: top;\n",
       "    }\n",
       "\n",
       "    .dataframe thead th {\n",
       "        text-align: right;\n",
       "    }\n",
       "</style>\n",
       "<table border=\"1\" class=\"dataframe\">\n",
       "  <thead>\n",
       "    <tr style=\"text-align: right;\">\n",
       "      <th></th>\n",
       "      <th>Cod_IBGE</th>\n",
       "      <th>Sigla</th>\n",
       "      <th>Estado</th>\n",
       "      <th>Cidade</th>\n",
       "    </tr>\n",
       "  </thead>\n",
       "  <tbody>\n",
       "    <tr>\n",
       "      <th>0</th>\n",
       "      <td>12</td>\n",
       "      <td>AC</td>\n",
       "      <td>Acre</td>\n",
       "      <td>Rio Branco</td>\n",
       "    </tr>\n",
       "    <tr>\n",
       "      <th>1</th>\n",
       "      <td>27</td>\n",
       "      <td>AL</td>\n",
       "      <td>Alagoas</td>\n",
       "      <td>Maceió</td>\n",
       "    </tr>\n",
       "    <tr>\n",
       "      <th>2</th>\n",
       "      <td>16</td>\n",
       "      <td>AP</td>\n",
       "      <td>Amapá</td>\n",
       "      <td>Macapá</td>\n",
       "    </tr>\n",
       "    <tr>\n",
       "      <th>3</th>\n",
       "      <td>13</td>\n",
       "      <td>AM</td>\n",
       "      <td>Amazonas</td>\n",
       "      <td>Manaus</td>\n",
       "    </tr>\n",
       "    <tr>\n",
       "      <th>4</th>\n",
       "      <td>29</td>\n",
       "      <td>BA</td>\n",
       "      <td>Bahia</td>\n",
       "      <td>Salvador</td>\n",
       "    </tr>\n",
       "    <tr>\n",
       "      <th>...</th>\n",
       "      <td>...</td>\n",
       "      <td>...</td>\n",
       "      <td>...</td>\n",
       "      <td>...</td>\n",
       "    </tr>\n",
       "    <tr>\n",
       "      <th>9995</th>\n",
       "      <td>23</td>\n",
       "      <td>CE</td>\n",
       "      <td>Ceará</td>\n",
       "      <td>Fortaleza</td>\n",
       "    </tr>\n",
       "    <tr>\n",
       "      <th>9996</th>\n",
       "      <td>53</td>\n",
       "      <td>DF</td>\n",
       "      <td>Distrito Federal</td>\n",
       "      <td>Brasília</td>\n",
       "    </tr>\n",
       "    <tr>\n",
       "      <th>9997</th>\n",
       "      <td>32</td>\n",
       "      <td>ES</td>\n",
       "      <td>Espírito Santo</td>\n",
       "      <td>Vitória</td>\n",
       "    </tr>\n",
       "    <tr>\n",
       "      <th>9998</th>\n",
       "      <td>52</td>\n",
       "      <td>GO</td>\n",
       "      <td>Goiás</td>\n",
       "      <td>Goiânia</td>\n",
       "    </tr>\n",
       "    <tr>\n",
       "      <th>9999</th>\n",
       "      <td>21</td>\n",
       "      <td>MA</td>\n",
       "      <td>Maranhão</td>\n",
       "      <td>São Luís</td>\n",
       "    </tr>\n",
       "  </tbody>\n",
       "</table>\n",
       "<p>10000 rows × 4 columns</p>\n",
       "</div>"
      ],
      "text/plain": [
       "      Cod_IBGE Sigla            Estado      Cidade\n",
       "0           12    AC              Acre  Rio Branco\n",
       "1           27    AL           Alagoas      Maceió\n",
       "2           16    AP             Amapá      Macapá\n",
       "3           13    AM          Amazonas      Manaus\n",
       "4           29    BA             Bahia    Salvador\n",
       "...        ...   ...               ...         ...\n",
       "9995        23    CE             Ceará   Fortaleza\n",
       "9996        53    DF  Distrito Federal    Brasília\n",
       "9997        32    ES    Espírito Santo     Vitória\n",
       "9998        52    GO             Goiás     Goiânia\n",
       "9999        21    MA          Maranhão    São Luís\n",
       "\n",
       "[10000 rows x 4 columns]"
      ]
     },
     "execution_count": 316,
     "metadata": {},
     "output_type": "execute_result"
    }
   ],
   "source": []
  },
  {
   "cell_type": "code",
   "execution_count": 308,
   "metadata": {},
   "outputs": [],
   "source": [
    "Fact_indicados=dataset.loc[dataset['Tipo Cargo']==\"Indicado\"]"
   ]
  },
  {
   "cell_type": "code",
   "execution_count": 309,
   "metadata": {},
   "outputs": [],
   "source": [
    "df01=dataset.loc[dataset['Tipo Cargo']==\"Eleito\"]\n",
    "df02=dataset.loc[dataset['Tipo Cargo']==\"Concursado\"]\n",
    "\n",
    "Dim_indicadores=pd.concat([df01,df02])\n"
   ]
  },
  {
   "cell_type": "code",
   "execution_count": 310,
   "metadata": {},
   "outputs": [],
   "source": [
    "df=Fact_indicados.merge(Dim_indicadores,how='inner',on=['Sobrenome','Cidade'])\n",
    "df['Nepotismo']=\"Sim\"\n",
    "\n",
    "df3=df.loc[:,['Nome_x','Cargo_x','Tipo Cargo_x','CPF_x','Sobrenome','Nepotismo','Cod_IBGE_x']]\n",
    "df3.rename(columns={'CPF_x':'CPF','Tipo Cargo_x':'Tipo Cargo','Cod_IBGE_x':'Cod_IBGE',\n",
    "'Cargo_x':'Cargo','Nome_x':'Nome'},inplace=True)\n",
    "df4=df.loc[:,['Nome_y','Cargo_y','Tipo Cargo_y','CPF_y','Sobrenome','Nepotismo','Cod_IBGE_y']]\n",
    "df4.rename(columns={'CPF_y':'CPF','Tipo Cargo_y':'Tipo Cargo','Cod_IBGE_y':'Cod_IBGE',\n",
    "'Cargo_y':'Cargo','Nome_y':'Nome'},inplace=True)\n",
    "\n",
    "\n",
    "\n"
   ]
  },
  {
   "cell_type": "code",
   "execution_count": 311,
   "metadata": {},
   "outputs": [],
   "source": [
    "Fact_indicados=Fact_indicados.loc[~Fact_indicados['CPF'].isin(df3['CPF'])]\n",
    "Fact_indicados['Nepotismo']=\"Não\"\n",
    "Dim_indicadores=Dim_indicadores.loc[~Dim_indicadores['CPF'].isin(df4['CPF'])]\n",
    "Dim_indicadores['Nepotismo']=\"Não\"\n"
   ]
  },
  {
   "cell_type": "code",
   "execution_count": 312,
   "metadata": {},
   "outputs": [],
   "source": [
    "Fact_indicados=pd.concat([Fact_indicados,df3])\n",
    "Dim_indicadores=pd.concat([Dim_indicadores,df4])\n",
    "\n"
   ]
  },
  {
   "cell_type": "code",
   "execution_count": 313,
   "metadata": {},
   "outputs": [],
   "source": [
    "Fact_indicados.drop_duplicates(inplace=True)\n",
    "Dim_indicadores.drop_duplicates(inplace=True)"
   ]
  },
  {
   "cell_type": "code",
   "execution_count": 314,
   "metadata": {},
   "outputs": [],
   "source": [
    "Dim_indicadores.to_csv(r'../processamento/Dim_indicadores.csv', index=False)\n",
    "Fact_indicados.to_csv(r'../processamento/Fact_indicados.csv', index=False)\n",
    "Dim_localidade.to_csv(r'../processamento/Dim_localidade.csv', index=False)"
   ]
  }
 ],
 "metadata": {
  "kernelspec": {
   "display_name": "Python 3.10.8 64-bit (microsoft store)",
   "language": "python",
   "name": "python3"
  },
  "language_info": {
   "codemirror_mode": {
    "name": "ipython",
    "version": 3
   },
   "file_extension": ".py",
   "mimetype": "text/x-python",
   "name": "python",
   "nbconvert_exporter": "python",
   "pygments_lexer": "ipython3",
   "version": "3.10.8"
  },
  "orig_nbformat": 4,
  "vscode": {
   "interpreter": {
    "hash": "9bee52897ae67ce5e4cda3b64d827a65f15a3af492473efd8b71bf7c69ad7307"
   }
  }
 },
 "nbformat": 4,
 "nbformat_minor": 2
}
