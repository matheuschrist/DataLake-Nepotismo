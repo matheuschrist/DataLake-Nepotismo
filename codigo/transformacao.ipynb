{
 "cells": [
  {
   "cell_type": "code",
   "execution_count": 269,
   "metadata": {},
   "outputs": [],
   "source": [
    "import pandas as pd\n",
    "dataset=pd.read_csv('../tratamento/dataset_tratado.csv')\n",
    "\n",
    "dataset_ibge=pd.read_csv('../tratamento/dataset_ibge_tratado.csv')"
   ]
  },
  {
   "cell_type": "code",
   "execution_count": 270,
   "metadata": {},
   "outputs": [],
   "source": [
    "#Removendo caracteres indesejados no Nome \n",
    "dataset['Nome'] = dataset['Nome'].replace({',': ''}, regex=True)\n",
    "dataset['Nome'] = dataset['Nome'].replace({'-': ''}, regex=True)\n",
    "dataset = dataset.replace({'  ': ' '}, regex=True)\n",
    "dataset['Nome'] = dataset['Nome'].replace({\"'\":' '}, regex=True)\n",
    "\n"
   ]
  },
  {
   "cell_type": "code",
   "execution_count": 271,
   "metadata": {},
   "outputs": [],
   "source": [
    "#Valida os CPFS\n",
    "\n",
    "from validate_docbr import CPF\n",
    "#Valida os CPFS \n",
    "cpf = CPF()\n",
    "def validaCPF(CPF):\n",
    "    \n",
    "    if(cpf.validate(CPF)):\n",
    "        CPFValido =\"Sim\"\n",
    "    else:\n",
    "        CPFValido =\"Não\"\n",
    "\n",
    "        \n",
    "    return CPFValido\n",
    "\n",
    "dataset['Validade CPF']=dataset['cpf'].apply(validaCPF)\n"
   ]
  },
  {
   "cell_type": "code",
   "execution_count": 272,
   "metadata": {},
   "outputs": [],
   "source": [
    "#Seleciona apenas os CPFs validos\n",
    "dataset=dataset.loc[dataset['Validade CPF']==\"Sim\"]\n",
    "dataset.drop(columns=['Validade CPF'],inplace=True)\n"
   ]
  },
  {
   "cell_type": "code",
   "execution_count": 273,
   "metadata": {},
   "outputs": [],
   "source": [
    "#Utiliza Regex para pegar o utimo conjunto de caracteres do nome depois do espaço\n",
    "import re\n",
    "\n",
    "def retornaSobrenome(nome): \n",
    "\n",
    "  Sobrenome = re.search(\"[^\\/]\\w+$\", nome).group(0)\n",
    "  #print(Sobrenome)\n",
    "  return Sobrenome\n",
    "\n",
    "dataset['sobrenome']=dataset['Nome'].apply(retornaSobrenome)"
   ]
  },
  {
   "cell_type": "code",
   "execution_count": 274,
   "metadata": {},
   "outputs": [],
   "source": [
    "#fazendo um join com a base do IBGE para adionar os campos Cod_IBGE,sigla , Estado \n",
    "dataset=pd.merge(dataset,dataset_ibge,how='left',on='Cidade')"
   ]
  },
  {
   "cell_type": "code",
   "execution_count": 275,
   "metadata": {},
   "outputs": [],
   "source": [
    "#Renomeando as colunas \n",
    "dataset.rename(columns={'cpf':'CPF','sobrenome':'Sobrenome','cod_ibge':'Cod_IBGE',\n",
    "'sigla':'Sigla','Nome Sigla':'Estado'},inplace=True)\n"
   ]
  },
  {
   "cell_type": "code",
   "execution_count": 276,
   "metadata": {},
   "outputs": [],
   "source": [
    "Dim_localidade=dataset.loc[:,['Cod_IBGE','Sigla','Estado']]\n",
    "dataset.drop(columns=['Sigla','Estado'],inplace=True)\n",
    "\n",
    "\n"
   ]
  },
  {
   "cell_type": "code",
   "execution_count": 277,
   "metadata": {},
   "outputs": [],
   "source": [
    "Fact_indicados=dataset.loc[dataset['Tipo Cargo']==\"Indicado\"]"
   ]
  },
  {
   "cell_type": "code",
   "execution_count": 278,
   "metadata": {},
   "outputs": [],
   "source": [
    "df01=dataset.loc[dataset['Tipo Cargo']==\"Eleito\"]\n",
    "df02=dataset.loc[dataset['Tipo Cargo']==\"Concursado\"]\n",
    "\n",
    "Dim_indicadores=pd.concat([df01,df02])\n"
   ]
  },
  {
   "cell_type": "code",
   "execution_count": 279,
   "metadata": {},
   "outputs": [],
   "source": [
    "df=Fact_indicados.merge(Dim_indicadores,how='inner',on=['Sobrenome','Cidade'])\n",
    "df['Nepotismo']=\"Sim\"\n",
    "\n",
    "df3=df.loc[:,['Nome_x','Cargo_x','Tipo Cargo_x','CPF_x','Sobrenome','Nepotismo','Cod_IBGE_x']]\n",
    "df3.rename(columns={'CPF_x':'CPF','Tipo Cargo_x':'Tipo Cargo','Cod_IBGE_x':'Cod_IBGE',\n",
    "'Cargo_x':'Cargo','Nome_x':'Nome'},inplace=True)\n",
    "df4=df.loc[:,['Nome_y','Cargo_y','Tipo Cargo_y','CPF_y','Sobrenome','Nepotismo','Cod_IBGE_y']]\n",
    "df4.rename(columns={'CPF_y':'CPF','Tipo Cargo_y':'Tipo Cargo','Cod_IBGE_y':'Cod_IBGE',\n",
    "'Cargo_y':'Cargo','Nome_y':'Nome'},inplace=True)\n",
    "\n",
    "\n",
    "\n"
   ]
  },
  {
   "cell_type": "code",
   "execution_count": 280,
   "metadata": {},
   "outputs": [],
   "source": [
    "Fact_indicados=Fact_indicados.loc[~Fact_indicados['CPF'].isin(df3['CPF'])]\n",
    "Fact_indicados['Nepotismo']=\"Não\"\n",
    "Dim_indicadores=Dim_indicadores.loc[~Dim_indicadores['CPF'].isin(df4['CPF'])]\n",
    "Dim_indicadores['Nepotismo']=\"Não\"\n"
   ]
  },
  {
   "cell_type": "code",
   "execution_count": 281,
   "metadata": {},
   "outputs": [],
   "source": [
    "Fact_indicados=pd.concat([Fact_indicados,df3])\n",
    "Dim_indicadores=pd.concat([Dim_indicadores,df4])\n",
    "\n"
   ]
  },
  {
   "cell_type": "code",
   "execution_count": 282,
   "metadata": {},
   "outputs": [],
   "source": [
    "Fact_indicados.drop_duplicates(inplace=True)\n",
    "Dim_indicadores.drop_duplicates(inplace=True)"
   ]
  },
  {
   "cell_type": "code",
   "execution_count": 283,
   "metadata": {},
   "outputs": [],
   "source": [
    "Dim_indicadores.to_csv(r'../processamento/Dim_indicadoresv.csv', index=False)\n",
    "Fact_indicados.to_csv(r'../processamento/Fact_indicados.csv', index=False)\n",
    "Dim_localidade.to_csv(r'../processamento/Dim_localidade.csv', index=False)"
   ]
  }
 ],
 "metadata": {
  "kernelspec": {
   "display_name": "Python 3.10.8 64-bit (microsoft store)",
   "language": "python",
   "name": "python3"
  },
  "language_info": {
   "codemirror_mode": {
    "name": "ipython",
    "version": 3
   },
   "file_extension": ".py",
   "mimetype": "text/x-python",
   "name": "python",
   "nbconvert_exporter": "python",
   "pygments_lexer": "ipython3",
   "version": "3.10.8"
  },
  "orig_nbformat": 4,
  "vscode": {
   "interpreter": {
    "hash": "9bee52897ae67ce5e4cda3b64d827a65f15a3af492473efd8b71bf7c69ad7307"
   }
  }
 },
 "nbformat": 4,
 "nbformat_minor": 2
}
