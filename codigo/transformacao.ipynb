{
 "cells": [
  {
   "cell_type": "code",
   "execution_count": 23,
   "metadata": {},
   "outputs": [],
   "source": [
    "import pandas as pd\n",
    "dataset=pd.read_csv('../tratamento/dataset_tratado.csv')\n",
    "\n",
    "dataset_ibge=pd.read_csv('../tratamento/dataset_ibge_tratado.csv')"
   ]
  },
  {
   "cell_type": "code",
   "execution_count": 24,
   "metadata": {},
   "outputs": [],
   "source": [
    "#Removendo caracteres indesejados no Nome \n",
    "dataset['Nome'] = dataset['Nome'].replace({',': ''}, regex=True)\n",
    "dataset['Nome'] = dataset['Nome'].replace({'-': ''}, regex=True)\n",
    "dataset = dataset.replace({'  ': ' '}, regex=True)\n",
    "dataset['Nome'] = dataset['Nome'].replace({\"'\":' '}, regex=True)\n",
    "\n"
   ]
  },
  {
   "cell_type": "code",
   "execution_count": 25,
   "metadata": {},
   "outputs": [],
   "source": [
    "#Valida os CPFS\n",
    "\n",
    "from validate_docbr import CPF\n",
    "#Valida os CPFS \n",
    "cpf = CPF()\n",
    "def validaCPF(CPF):\n",
    "    \n",
    "    if(cpf.validate(CPF)):\n",
    "        CPFValido =\"Sim\"\n",
    "    else:\n",
    "        CPFValido =\"Não\"\n",
    "\n",
    "        \n",
    "    return CPFValido\n",
    "\n",
    "dataset['Validade CPF']=dataset['cpf'].apply(validaCPF)\n"
   ]
  },
  {
   "cell_type": "code",
   "execution_count": 26,
   "metadata": {},
   "outputs": [],
   "source": [
    "#Seleciona apenas os CPFs validos\n",
    "dataset=dataset.loc[dataset['Validade CPF']==\"Sim\"]\n",
    "dataset.drop(columns=['Validade CPF'],inplace=True)\n"
   ]
  },
  {
   "cell_type": "code",
   "execution_count": 27,
   "metadata": {},
   "outputs": [],
   "source": [
    "#Utiliza Regex para pegar o utimo conjunto de caracteres do nome depois do espaço\n",
    "import re\n",
    "\n",
    "def retornaSobrenome(nome): \n",
    "\n",
    "  Sobrenome = re.search(\"[^\\/]\\w+$\", nome).group(0)\n",
    "  #print(Sobrenome)\n",
    "  return Sobrenome\n",
    "\n",
    "dataset['sobrenome']=dataset['Nome'].apply(retornaSobrenome)"
   ]
  },
  {
   "cell_type": "code",
   "execution_count": 28,
   "metadata": {},
   "outputs": [],
   "source": [
    "#fazendo um join com a base do IBGE para adionar os campos Cod_IBGE,sigla , Estado \n",
    "dataset=pd.merge(dataset,dataset_ibge,how='left',on='Cidade')"
   ]
  },
  {
   "cell_type": "code",
   "execution_count": 29,
   "metadata": {},
   "outputs": [],
   "source": [
    "#Renomeando as colunas \n",
    "dataset.rename(columns={'CPF':'CPF','sobrenome':'Sobrenome','cod_ibge':'Cod_IBGE',\n",
    "'sigla':'Sigla','Nome Sigla':'Estado'},inplace=True)\n"
   ]
  },
  {
   "cell_type": "code",
   "execution_count": 30,
   "metadata": {},
   "outputs": [],
   "source": [
    "Dim_localidade=dataset.loc[:,['Cod_IBGE','Sigla','Estado']]\n",
    "dataset.drop(columns=['Sigla','Estado'],inplace=True)\n",
    "\n",
    "\n"
   ]
  },
  {
   "cell_type": "code",
   "execution_count": 31,
   "metadata": {},
   "outputs": [],
   "source": [
    "Fact_indicados=dataset.loc[dataset['Tipo Cargo']==\"Indicado\"]"
   ]
  },
  {
   "cell_type": "code",
   "execution_count": 32,
   "metadata": {},
   "outputs": [],
   "source": [
    "df01=dataset.loc[dataset['Tipo Cargo']==\"Eleito\"]\n",
    "df02=dataset.loc[dataset['Tipo Cargo']==\"Concursado\"]\n",
    "\n",
    "Dim_indicadores=pd.concat([df01,df02])\n"
   ]
  },
  {
   "cell_type": "code",
   "execution_count": 33,
   "metadata": {},
   "outputs": [],
   "source": [
    "df01=Fact_indicados.merge(Dim_indicadores,how='inner',on='Sobrenome')"
   ]
  },
  {
   "cell_type": "code",
   "execution_count": null,
   "metadata": {},
   "outputs": [],
   "source": [
    "Dim_indicadores.to_csv(r'../processamento/Dim_indicadoresv.csv', index=False)\n",
    "Fact_indicados.to_csv(r'../processamento/Fact_indicados.csv', index=False)\n",
    "Dim_localidade.to_csv(r'../processamento/Dim_localidade.csv', index=False)"
   ]
  }
 ],
 "metadata": {
  "kernelspec": {
   "display_name": "Python 3.10.8 64-bit (microsoft store)",
   "language": "python",
   "name": "python3"
  },
  "language_info": {
   "codemirror_mode": {
    "name": "ipython",
    "version": 3
   },
   "file_extension": ".py",
   "mimetype": "text/x-python",
   "name": "python",
   "nbconvert_exporter": "python",
   "pygments_lexer": "ipython3",
   "version": "3.10.8"
  },
  "orig_nbformat": 4,
  "vscode": {
   "interpreter": {
    "hash": "9bee52897ae67ce5e4cda3b64d827a65f15a3af492473efd8b71bf7c69ad7307"
   }
  }
 },
 "nbformat": 4,
 "nbformat_minor": 2
}
